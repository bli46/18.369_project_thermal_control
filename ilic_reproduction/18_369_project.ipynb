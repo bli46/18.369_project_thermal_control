{
 "cells": [
  {
   "cell_type": "code",
   "execution_count": 1,
   "metadata": {},
   "outputs": [
    {
     "name": "stdout",
     "output_type": "stream",
     "text": [
      "Using MPI version 3.1, 1 processes\n"
     ]
    }
   ],
   "source": [
    "import meep as mp\n",
    "import math\n",
    "import cmath\n",
    "import argparse\n",
    "import numpy as np\n",
    "from IPython.display import Video\n",
    "import matplotlib.pyplot as plt"
   ]
  },
  {
   "cell_type": "markdown",
   "metadata": {},
   "source": [
    "## Define materials"
   ]
  },
  {
   "cell_type": "code",
   "execution_count": 2,
   "metadata": {},
   "outputs": [],
   "source": [
    "# epsilon from supplementary material of ilic et al for lambda = 610 nm, values confirmed on the site https://refractiveindex.info/\n",
    "\n",
    "n_SiO2 = 1.46\n",
    "n_Al2O3 = 1.68\n",
    "n_Ta2O5 = 2.09\n",
    "n_TiO2 = 2.35\n",
    "SiO2 = mp.Medium(epsilon=n_SiO2**2)\n",
    "Al2O3 = mp.Medium(epsilon=n_Al2O3**2)\n",
    "Ta2O5 = mp.Medium(epsilon=n_Ta2O5**2)\n",
    "TiO2 = mp.Medium(epsilon=n_TiO2**2)"
   ]
  },
  {
   "cell_type": "markdown",
   "metadata": {},
   "source": [
    "## Set up quarter-wave (qw) stack parameters"
   ]
  },
  {
   "cell_type": "code",
   "execution_count": 3,
   "metadata": {},
   "outputs": [
    {
     "name": "stdout",
     "output_type": "stream",
     "text": [
      "Center frequency 0.8333333333333334\n",
      "Quarter wave gap size 0.25016415689653043\n"
     ]
    }
   ],
   "source": [
    "# design qw stack to block wavelength of lambda_0 microns\n",
    "lambda_0 = 1.2\n",
    "fcen_0 = 1/lambda_0\n",
    "print('Center frequency', fcen_0)\n",
    "\n",
    "# set up qw stack\n",
    "n_layers = 10\n",
    "n1 = n_SiO2\n",
    "n2 = n_TiO2\n",
    "material1 = SiO2\n",
    "material2 = TiO2\n",
    "a = (n1+n2)/(4*n1*n2*fcen_0)\n",
    "d1 = a*n2/(n1+n2)\n",
    "d2 = a*n1/(n1+n2)\n",
    "\n",
    "# Compute qw stack delta f\n",
    "delta_f = fcen_0*(4/np.pi)*np.arcsin(np.abs(n1-n2)/(n1+n2))\n",
    "print('Quarter wave gap size', delta_f)"
   ]
  },
  {
   "cell_type": "markdown",
   "metadata": {},
   "source": [
    "## Spectral reflectance and transmittance at normal incidence for quarter-wave stack of SiO2 and TiO2 "
   ]
  },
  {
   "cell_type": "code",
   "execution_count": 4,
   "metadata": {
    "scrolled": true
   },
   "outputs": [
    {
     "name": "stderr",
     "output_type": "stream",
     "text": [
      "Warning: grid volume is not an integer number of pixels; cell size will be rounded to nearest pixel.\n"
     ]
    },
    {
     "name": "stdout",
     "output_type": "stream",
     "text": [
      "-----------\n",
      "Initializing structure...\n",
      "time for choose_chunkdivision = 0.000298977 s\n",
      "Working in 2D dimensions.\n",
      "Computational cell is 15.325 x 9 x 0 with resolution 40\n",
      "time for set_epsilon = 0.224069 s\n",
      "-----------\n"
     ]
    },
    {
     "data": {
      "text/plain": [
       "<AxesSubplot:xlabel='X', ylabel='Y'>"
      ]
     },
     "execution_count": 4,
     "metadata": {},
     "output_type": "execute_result"
    },
    {
     "data": {
      "image/png": "[encoded data removed]",
      "text/plain": [
       "<Figure size 432x288 with 1 Axes>"
      ]
     },
     "metadata": {
      "needs_background": "light"
     },
     "output_type": "display_data"
    }
   ],
   "source": [
    "# Set up simulation for first run: no qw stack\n",
    "\n",
    "resolution = 40     # pixels/um\n",
    "\n",
    "# set pml\n",
    "dpml = 2.\n",
    "pml_layers = [mp.PML(dpml)]\n",
    "\n",
    "# pad up structure and make cell\n",
    "pad = 4.\n",
    "y_length = 5.\n",
    "sx = n_layers*a + 2*dpml + 2*pad\n",
    "sy = y_length + 2*dpml\n",
    "cell = mp.Vector3(sx,sy)\n",
    "\n",
    "# make geometry, no qw stack\n",
    "geometry = []\n",
    "\n",
    "\n",
    "# make a line of sources corresponding to normal incidence\n",
    "# send in light centered at 610 nm wavelgnth\n",
    "lambda_cen = 0.61\n",
    "fcen = 1/lambda_cen\n",
    "df = 0.1\n",
    "src_pos = -0.5*sx + dpml + pad/4\n",
    "sources = [ mp.Source(mp.GaussianSource(fcen, fwidth=df, is_integrated=True),\n",
    "                      # need is_integrated=True because source extends through pml\n",
    "                      component=mp.Ez, \n",
    "                      center=mp.Vector3(src_pos,0),\n",
    "                      size=mp.Vector3(0, sy)) ]\n",
    "\n",
    "# make simulation object\n",
    "sim = mp.Simulation(cell_size=cell,\n",
    "                    boundary_layers=pml_layers,\n",
    "                    geometry=geometry,\n",
    "                    sources=sources,\n",
    "                    resolution=resolution,\n",
    "                    k_point=mp.Vector3())\n",
    "\n",
    "# set up fluxes for reflected and transmitted flux\n",
    "nfreq = 100\n",
    "refl_pos = -0.5*sx + dpml + pad/2\n",
    "refl_fr = mp.FluxRegion(center=mp.Vector3(refl_pos,0), size=mp.Vector3(0, y_length/2))\n",
    "refl = sim.add_flux(fcen, df, nfreq, refl_fr)\n",
    "tran_pos = 0.5*sx - dpml - pad/2\n",
    "tran_fr = mp.FluxRegion(center=mp.Vector3(tran_pos,0), size=mp.Vector3(0,y_length/2,0))\n",
    "tran = sim.add_flux(fcen, df, nfreq, tran_fr)\n",
    "\n",
    "# Plot\n",
    "sim.plot2D()"
   ]
  },
  {
   "cell_type": "code",
   "execution_count": 5,
   "metadata": {
    "scrolled": true
   },
   "outputs": [
    {
     "name": "stdout",
     "output_type": "stream",
     "text": [
      "on time step 3118 (time=38.975), 0.00128295 s/step\n",
      "field decay(t = 50.0125): 0.09987548842241936 / 0.09987548842241936 = 1.0\n",
      "on time step 6198 (time=77.475), 0.00129882 s/step\n",
      "field decay(t = 100.025): 0.2460356599098966 / 0.2460356599098966 = 1.0\n",
      "on time step 9220 (time=115.25), 0.00132363 s/step\n",
      "field decay(t = 150.0375): 1.4238074362198705e-08 / 0.2460356599098966 = 5.786996229494938e-08\n",
      "run 0 finished at t = 150.0375 (12003 timesteps)\n"
     ]
    }
   ],
   "source": [
    "# Normalization run\n",
    "\n",
    "pt = mp.Vector3(0.5*sx-dpml-pad/4, 0)\n",
    "sim.run(until_after_sources=mp.stop_when_fields_decayed(50,mp.Ez, pt, 1e-6))\n",
    "norm_refl_data = sim.get_flux_data(refl)\n",
    "norm_tran_flux = mp.get_fluxes(tran)"
   ]
  },
  {
   "cell_type": "code",
   "execution_count": 6,
   "metadata": {
    "scrolled": true
   },
   "outputs": [
    {
     "name": "stderr",
     "output_type": "stream",
     "text": [
      "Warning: grid volume is not an integer number of pixels; cell size will be rounded to nearest pixel.\n"
     ]
    },
    {
     "name": "stdout",
     "output_type": "stream",
     "text": [
      "-----------\n",
      "Initializing structure...\n",
      "time for choose_chunkdivision = 0.000375032 s\n",
      "Working in 2D dimensions.\n",
      "Computational cell is 15.325 x 9 x 0 with resolution 40\n",
      "     block, center = (-1.56296,0,0)\n",
      "          size (0.205479,1e+20,0)\n",
      "          axes (1,0,0), (0,1,0), (0,0,1)\n",
      "          dielectric constant epsilon diagonal = (2.1316,2.1316,2.1316)\n",
      "     block, center = (-1.22982,0,0)\n",
      "          size (0.205479,1e+20,0)\n",
      "          axes (1,0,0), (0,1,0), (0,0,1)\n",
      "          dielectric constant epsilon diagonal = (2.1316,2.1316,2.1316)\n",
      "     block, center = (-0.896677,0,0)\n",
      "          size (0.205479,1e+20,0)\n",
      "          axes (1,0,0), (0,1,0), (0,0,1)\n",
      "          dielectric constant epsilon diagonal = (2.1316,2.1316,2.1316)\n",
      "     block, center = (-0.563538,0,0)\n",
      "          size (0.205479,1e+20,0)\n",
      "          axes (1,0,0), (0,1,0), (0,0,1)\n",
      "          dielectric constant epsilon diagonal = (2.1316,2.1316,2.1316)\n",
      "     block, center = (-0.230399,0,0)\n",
      "          size (0.205479,1e+20,0)\n",
      "          axes (1,0,0), (0,1,0), (0,0,1)\n",
      "          dielectric constant epsilon diagonal = (2.1316,2.1316,2.1316)\n",
      "     block, center = (0.10274,0,0)\n",
      "          size (0.205479,1e+20,0)\n",
      "          axes (1,0,0), (0,1,0), (0,0,1)\n",
      "          dielectric constant epsilon diagonal = (2.1316,2.1316,2.1316)\n",
      "     block, center = (0.435879,0,0)\n",
      "          size (0.205479,1e+20,0)\n",
      "          axes (1,0,0), (0,1,0), (0,0,1)\n",
      "          dielectric constant epsilon diagonal = (2.1316,2.1316,2.1316)\n",
      "     block, center = (0.769018,0,0)\n",
      "          size (0.205479,1e+20,0)\n",
      "          axes (1,0,0), (0,1,0), (0,0,1)\n",
      "          dielectric constant epsilon diagonal = (2.1316,2.1316,2.1316)\n",
      "     block, center = (1.10216,0,0)\n",
      "          size (0.205479,1e+20,0)\n",
      "          axes (1,0,0), (0,1,0), (0,0,1)\n",
      "          dielectric constant epsilon diagonal = (2.1316,2.1316,2.1316)\n",
      "     block, center = (1.4353,0,0)\n",
      "          size (0.205479,1e+20,0)\n",
      "          axes (1,0,0), (0,1,0), (0,0,1)\n",
      "          dielectric constant epsilon diagonal = (2.1316,2.1316,2.1316)\n",
      "     ...(+ 10 objects not shown)...\n",
      "time for set_epsilon = 0.527668 s\n",
      "-----------\n"
     ]
    },
    {
     "data": {
      "text/plain": [
       "<AxesSubplot:xlabel='X', ylabel='Y'>"
      ]
     },
     "execution_count": 6,
     "metadata": {},
     "output_type": "execute_result"
    },
    {
     "data": {
      "image/png": "[encoded data removed]",
      "text/plain": [
       "<Figure size 432x288 with 1 Axes>"
      ]
     },
     "metadata": {
      "needs_background": "light"
     },
     "output_type": "display_data"
    }
   ],
   "source": [
    "# Set up second simulation, with quarter-wave stack\n",
    "\n",
    "sim.reset_meep()\n",
    "\n",
    "geometry = [mp.Block(mp.Vector3(d1, mp.inf),\n",
    "                     center=mp.Vector3(d1/2 + i*a, 0),\n",
    "                     material=material1) for i in range(-n_layers//2, n_layers//2)] + \\\n",
    "            [mp.Block(mp.Vector3(d2, mp.inf),\n",
    "                     center=mp.Vector3(d1 + d2/2 + i*a, 0),\n",
    "                     material=material2) for i in range(-n_layers//2, n_layers//2)]\n",
    "\n",
    "sim = mp.Simulation(cell_size=cell,\n",
    "                    boundary_layers=pml_layers,\n",
    "                    geometry=geometry,\n",
    "                    sources=sources,\n",
    "                    resolution=resolution,\n",
    "                    k_point=mp.Vector3())\n",
    "\n",
    "# Make new fluxes\n",
    "refl = sim.add_flux(fcen, df, nfreq, refl_fr)\n",
    "tran = sim.add_flux(fcen, df, nfreq, tran_fr)\n",
    "\n",
    "# Load negated fields from normalization run\n",
    "sim.load_minus_flux_data(refl, norm_refl_data)\n",
    "\n",
    "# plot\n",
    "sim.plot2D()"
   ]
  },
  {
   "cell_type": "code",
   "execution_count": 7,
   "metadata": {
    "scrolled": true
   },
   "outputs": [
    {
     "name": "stdout",
     "output_type": "stream",
     "text": [
      "on time step 2996 (time=37.45), 0.00133525 s/step\n",
      "field decay(t = 50.0125): 0.028789998691846633 / 0.028789998691846633 = 1.0\n",
      "on time step 6026 (time=75.325), 0.00132051 s/step\n",
      "field decay(t = 100.025): 0.10457806760557067 / 0.10457806760557067 = 1.0\n",
      "on time step 9046 (time=113.075), 0.00132462 s/step\n",
      "field decay(t = 150.0375): 6.246886539128096e-09 / 0.10457806760557067 = 5.973419362355225e-08\n",
      "run 0 finished at t = 150.0375 (12003 timesteps)\n"
     ]
    }
   ],
   "source": [
    "# Second run\n",
    "\n",
    "pt = mp.Vector3(0.5*sx-dpml-pad/4, 0)\n",
    "sim.run(until_after_sources=mp.stop_when_fields_decayed(50,mp.Ez, pt, 1e-6))\n",
    "qw_refl_flux = mp.get_fluxes(refl)\n",
    "qw_tran_flux = mp.get_fluxes(tran)\n",
    "\n",
    "flux_freqs = mp.get_flux_freqs(refl)"
   ]
  },
  {
   "cell_type": "code",
   "execution_count": 8,
   "metadata": {},
   "outputs": [
    {
     "data": {
      "image/png": "[encoded data removed]",
      "text/plain": [
       "<Figure size 432x288 with 1 Axes>"
      ]
     },
     "metadata": {
      "needs_background": "light"
     },
     "output_type": "display_data"
    }
   ],
   "source": [
    "wl = []\n",
    "Rs = []\n",
    "Ts = []\n",
    "for i in range(nfreq):\n",
    "    wl = np.append(wl, 1/flux_freqs[i])\n",
    "    Rs = np.append(Rs,-qw_refl_flux[i]/norm_tran_flux[i])\n",
    "    Ts = np.append(Ts,qw_tran_flux[i]/norm_tran_flux[i])    \n",
    "plt.figure()\n",
    "plt.plot(wl,Rs,'b',label='reflectance')\n",
    "plt.plot(wl,Ts,'r',label='transmittance')\n",
    "plt.plot(wl,1-Rs-Ts,'g',label='loss')\n",
    "plt.title('Transmittance and Reflecatance of Quarter-Wave Stack')\n",
    "plt.xlabel(\"wavelength (μm)\")\n",
    "plt.legend(loc=\"upper right\")\n",
    "plt.show()"
   ]
  },
  {
   "cell_type": "code",
   "execution_count": 9,
   "metadata": {
    "scrolled": true
   },
   "outputs": [
    {
     "name": "stderr",
     "output_type": "stream",
     "text": [
      "Warning: grid volume is not an integer number of pixels; cell size will be rounded to nearest pixel.\n"
     ]
    },
    {
     "name": "stdout",
     "output_type": "stream",
     "text": [
      "-----------\n",
      "Initializing structure...\n",
      "time for choose_chunkdivision = 0.000368118 s\n",
      "Working in 2D dimensions.\n",
      "Computational cell is 15.325 x 9 x 0 with resolution 40\n",
      "     block, center = (-1.56296,0,0)\n",
      "          size (0.205479,1e+20,0)\n",
      "          axes (1,0,0), (0,1,0), (0,0,1)\n",
      "          dielectric constant epsilon diagonal = (2.1316,2.1316,2.1316)\n",
      "     block, center = (-1.22982,0,0)\n",
      "          size (0.205479,1e+20,0)\n",
      "          axes (1,0,0), (0,1,0), (0,0,1)\n",
      "          dielectric constant epsilon diagonal = (2.1316,2.1316,2.1316)\n",
      "     block, center = (-0.896677,0,0)\n",
      "          size (0.205479,1e+20,0)\n",
      "          axes (1,0,0), (0,1,0), (0,0,1)\n",
      "          dielectric constant epsilon diagonal = (2.1316,2.1316,2.1316)\n",
      "     block, center = (-0.563538,0,0)\n",
      "          size (0.205479,1e+20,0)\n",
      "          axes (1,0,0), (0,1,0), (0,0,1)\n",
      "          dielectric constant epsilon diagonal = (2.1316,2.1316,2.1316)\n",
      "     block, center = (-0.230399,0,0)\n",
      "          size (0.205479,1e+20,0)\n",
      "          axes (1,0,0), (0,1,0), (0,0,1)\n",
      "          dielectric constant epsilon diagonal = (2.1316,2.1316,2.1316)\n",
      "     block, center = (0.10274,0,0)\n",
      "          size (0.205479,1e+20,0)\n",
      "          axes (1,0,0), (0,1,0), (0,0,1)\n",
      "          dielectric constant epsilon diagonal = (2.1316,2.1316,2.1316)\n",
      "     block, center = (0.435879,0,0)\n",
      "          size (0.205479,1e+20,0)\n",
      "          axes (1,0,0), (0,1,0), (0,0,1)\n",
      "          dielectric constant epsilon diagonal = (2.1316,2.1316,2.1316)\n",
      "     block, center = (0.769018,0,0)\n",
      "          size (0.205479,1e+20,0)\n",
      "          axes (1,0,0), (0,1,0), (0,0,1)\n",
      "          dielectric constant epsilon diagonal = (2.1316,2.1316,2.1316)\n",
      "     block, center = (1.10216,0,0)\n",
      "          size (0.205479,1e+20,0)\n",
      "          axes (1,0,0), (0,1,0), (0,0,1)\n",
      "          dielectric constant epsilon diagonal = (2.1316,2.1316,2.1316)\n",
      "     block, center = (1.4353,0,0)\n",
      "          size (0.205479,1e+20,0)\n",
      "          axes (1,0,0), (0,1,0), (0,0,1)\n",
      "          dielectric constant epsilon diagonal = (2.1316,2.1316,2.1316)\n",
      "     ...(+ 10 objects not shown)...\n",
      "time for set_epsilon = 0.51918 s\n",
      "-----------\n",
      "on time step 2623 (time=32.7875), 0.00152517 s/step\n",
      "field decay(t = 50.0125): 0.028789998691846633 / 0.028789998691846633 = 1.0\n",
      "on time step 5479 (time=68.4875), 0.00140072 s/step\n",
      "field decay(t = 100.025): 0.10457806760557067 / 0.10457806760557067 = 1.0\n",
      "on time step 8399 (time=104.988), 0.00137022 s/step\n",
      "on time step 11292 (time=141.15), 0.00138265 s/step\n",
      "field decay(t = 150.0375): 6.246886539128096e-09 / 0.10457806760557067 = 5.973419362355225e-08\n",
      "Normalizing field data...\n",
      "run 1 finished at t = 150.0375 (12003 timesteps)\n"
     ]
    },
    {
     "data": {
      "image/png": "[encoded data removed]",
      "text/plain": [
       "<Figure size 432x288 with 1 Axes>"
      ]
     },
     "metadata": {
      "needs_background": "light"
     },
     "output_type": "display_data"
    }
   ],
   "source": [
    "# Make Animation\n",
    "\n",
    "animate = mp.Animate2D(sim, fields=mp.Ez, normalize=True)\n",
    "sim.reset_meep()\n",
    "sim.run(mp.at_every(1,animate),until_after_sources=mp.stop_when_fields_decayed(50,mp.Ez, pt, 1e-6))"
   ]
  },
  {
   "cell_type": "code",
   "execution_count": 10,
   "metadata": {},
   "outputs": [
    {
     "name": "stdout",
     "output_type": "stream",
     "text": [
      "Generating MP4...\n"
     ]
    },
    {
     "data": {
      "text/html": [
       "<video src=\"qw_stack.mp4\" controls  >\n",
       "      Your browser does not support the <code>video</code> element.\n",
       "    </video>"
      ],
      "text/plain": [
       "<IPython.core.display.Video object>"
      ]
     },
     "execution_count": 10,
     "metadata": {},
     "output_type": "execute_result"
    }
   ],
   "source": [
    "# Play animation\n",
    "\n",
    "filename = \"qw_stack.mp4\"\n",
    "fps = 10\n",
    "animate.to_mp4(fps,filename)\n",
    "Video(filename)"
   ]
  },
  {
   "cell_type": "markdown",
   "metadata": {},
   "source": [
    "## Angular and spectral reflectance and transmittance of quarter-wave stack"
   ]
  },
  {
   "cell_type": "markdown",
   "metadata": {},
   "source": [
    "### Start with just one angle"
   ]
  },
  {
   "cell_type": "code",
   "execution_count": 11,
   "metadata": {},
   "outputs": [],
   "source": [
    "# Define source at an angle\n",
    "\n",
    "# send in light centered at 610 nm wavelgnth\n",
    "lambda_cen = 0.61\n",
    "fcen = 1/lambda_cen\n",
    "df = 0.1\n",
    "src_pos = -0.5*sx + dpml #+ pad/4\n",
    "src_pt = mp.Vector3(src_pos, 0)\n",
    "\n",
    "# Set theta incidence, compute k and the amplitude function\n",
    "theta_in = np.pi/6\n",
    "n0 = 1. # air\n",
    "k = mp.Vector3(fcen*n0).rotate(mp.Vector3(z=1), theta_in)\n",
    "def pw_amp(k,x0):\n",
    "    def _pw_amp(x):\n",
    "        return cmath.exp(1j*2*math.pi*k.dot(x+x0))\n",
    "    return _pw_amp\n",
    "\n",
    "sources = [ mp.Source(mp.GaussianSource(fcen, fwidth=df, is_integrated=True),\n",
    "                      # need is_integrated=True because source extends through pml\n",
    "                      component=mp.Ez, \n",
    "                      center=mp.Vector3(src_pos,0),\n",
    "                      size=mp.Vector3(0, sy), \n",
    "                      amp_func=pw_amp(k,src_pt)) ]"
   ]
  },
  {
   "cell_type": "code",
   "execution_count": 12,
   "metadata": {},
   "outputs": [
    {
     "data": {
      "text/plain": [
       "Vector3<1.4197137766958012, 0.8196721311475409, 0.0>"
      ]
     },
     "execution_count": 12,
     "metadata": {},
     "output_type": "execute_result"
    }
   ],
   "source": [
    "k"
   ]
  },
  {
   "cell_type": "code",
   "execution_count": 13,
   "metadata": {},
   "outputs": [
    {
     "name": "stderr",
     "output_type": "stream",
     "text": [
      "Warning: grid volume is not an integer number of pixels; cell size will be rounded to nearest pixel.\n"
     ]
    },
    {
     "name": "stdout",
     "output_type": "stream",
     "text": [
      "-----------\n",
      "Initializing structure...\n",
      "time for choose_chunkdivision = 6.41346e-05 s\n",
      "Working in 2D dimensions.\n",
      "Computational cell is 15.325 x 9 x 0 with resolution 40\n",
      "time for set_epsilon = 0.224158 s\n",
      "-----------\n",
      "Meep: using complex fields.\n"
     ]
    },
    {
     "data": {
      "text/plain": [
       "<AxesSubplot:xlabel='X', ylabel='Y'>"
      ]
     },
     "execution_count": 13,
     "metadata": {},
     "output_type": "execute_result"
    },
    {
     "data": {
      "image/png": "[encoded data removed]",
      "text/plain": [
       "<Figure size 432x288 with 1 Axes>"
      ]
     },
     "metadata": {
      "needs_background": "light"
     },
     "output_type": "display_data"
    }
   ],
   "source": [
    "# Set up simulation for first run: no qw stack\n",
    "\n",
    "resolution = 40     # pixels/um\n",
    "\n",
    "# set pml\n",
    "dpml = 2.\n",
    "pml_layers = [mp.PML(dpml, direction=mp.X)]\n",
    "\n",
    "# pad up structure and make cell\n",
    "pad = 4.\n",
    "y_length = 5.\n",
    "sx = n_layers*a + 2*dpml + 2*pad\n",
    "sy = y_length + 2*dpml\n",
    "cell = mp.Vector3(sx,sy)\n",
    "\n",
    "# make geometry, no qw stack\n",
    "geometry = []\n",
    "\n",
    "\n",
    "\n",
    "\n",
    "# make simulation object\n",
    "sim = mp.Simulation(cell_size=cell,\n",
    "                    boundary_layers=pml_layers,\n",
    "                    geometry=geometry,\n",
    "                    sources=sources,\n",
    "                    resolution=resolution,\n",
    "                    k_point=k)\n",
    "\n",
    "# set up fluxes for reflected and transmitted flux\n",
    "nfreq = 100\n",
    "refl_pos = -0.5*sx + dpml + pad/2\n",
    "refl_fr = mp.FluxRegion(center=mp.Vector3(refl_pos,0), size=mp.Vector3(0, y_length/2))\n",
    "refl = sim.add_flux(fcen, df, nfreq, refl_fr)\n",
    "tran_pos = 0.5*sx - dpml - pad/2\n",
    "tran_fr = mp.FluxRegion(center=mp.Vector3(tran_pos,0), size=mp.Vector3(0,y_length/2,0))\n",
    "tran = sim.add_flux(fcen, df, nfreq, tran_fr)\n",
    "\n",
    "# Plot\n",
    "sim.plot2D()"
   ]
  },
  {
   "cell_type": "code",
   "execution_count": 14,
   "metadata": {},
   "outputs": [
    {
     "name": "stdout",
     "output_type": "stream",
     "text": [
      "on time step 1982 (time=24.775), 0.00201851 s/step\n",
      "on time step 3980 (time=49.75), 0.00200252 s/step\n",
      "field decay(t = 50.0125): 0.0795574460017068 / 0.0795574460017068 = 1.0\n",
      "on time step 5983 (time=74.7875), 0.00199785 s/step\n",
      "on time step 7975 (time=99.6875), 0.00200892 s/step\n",
      "field decay(t = 100.025): 0.3331643631258154 / 0.3331643631258154 = 1.0\n",
      "on time step 9984 (time=124.8), 0.00199188 s/step\n",
      "on time step 11971 (time=149.638), 0.00201375 s/step\n",
      "field decay(t = 150.0375): 1.7033054509435593e-07 / 0.3331643631258154 = 5.112507937412043e-07\n",
      "run 0 finished at t = 150.0375 (12003 timesteps)\n"
     ]
    }
   ],
   "source": [
    "# Normalization run\n",
    "\n",
    "pt = mp.Vector3(0.5*sx-dpml-pad/4, 0)\n",
    "sim.run(until_after_sources=mp.stop_when_fields_decayed(50,mp.Ez, pt, 1e-6))\n",
    "norm_refl_data = sim.get_flux_data(refl)\n",
    "norm_tran_flux = mp.get_fluxes(tran)"
   ]
  },
  {
   "cell_type": "code",
   "execution_count": 15,
   "metadata": {},
   "outputs": [
    {
     "name": "stderr",
     "output_type": "stream",
     "text": [
      "Warning: grid volume is not an integer number of pixels; cell size will be rounded to nearest pixel.\n"
     ]
    },
    {
     "name": "stdout",
     "output_type": "stream",
     "text": [
      "-----------\n",
      "Initializing structure...\n",
      "time for choose_chunkdivision = 9.58443e-05 s\n",
      "Working in 2D dimensions.\n",
      "Computational cell is 15.325 x 9 x 0 with resolution 40\n",
      "     block, center = (-1.56296,0,0)\n",
      "          size (0.205479,1e+20,0)\n",
      "          axes (1,0,0), (0,1,0), (0,0,1)\n",
      "          dielectric constant epsilon diagonal = (2.1316,2.1316,2.1316)\n",
      "     block, center = (-1.22982,0,0)\n",
      "          size (0.205479,1e+20,0)\n",
      "          axes (1,0,0), (0,1,0), (0,0,1)\n",
      "          dielectric constant epsilon diagonal = (2.1316,2.1316,2.1316)\n",
      "     block, center = (-0.896677,0,0)\n",
      "          size (0.205479,1e+20,0)\n",
      "          axes (1,0,0), (0,1,0), (0,0,1)\n",
      "          dielectric constant epsilon diagonal = (2.1316,2.1316,2.1316)\n",
      "     block, center = (-0.563538,0,0)\n",
      "          size (0.205479,1e+20,0)\n",
      "          axes (1,0,0), (0,1,0), (0,0,1)\n",
      "          dielectric constant epsilon diagonal = (2.1316,2.1316,2.1316)\n",
      "     block, center = (-0.230399,0,0)\n",
      "          size (0.205479,1e+20,0)\n",
      "          axes (1,0,0), (0,1,0), (0,0,1)\n",
      "          dielectric constant epsilon diagonal = (2.1316,2.1316,2.1316)\n",
      "     block, center = (0.10274,0,0)\n",
      "          size (0.205479,1e+20,0)\n",
      "          axes (1,0,0), (0,1,0), (0,0,1)\n",
      "          dielectric constant epsilon diagonal = (2.1316,2.1316,2.1316)\n",
      "     block, center = (0.435879,0,0)\n",
      "          size (0.205479,1e+20,0)\n",
      "          axes (1,0,0), (0,1,0), (0,0,1)\n",
      "          dielectric constant epsilon diagonal = (2.1316,2.1316,2.1316)\n",
      "     block, center = (0.769018,0,0)\n",
      "          size (0.205479,1e+20,0)\n",
      "          axes (1,0,0), (0,1,0), (0,0,1)\n",
      "          dielectric constant epsilon diagonal = (2.1316,2.1316,2.1316)\n",
      "     block, center = (1.10216,0,0)\n",
      "          size (0.205479,1e+20,0)\n",
      "          axes (1,0,0), (0,1,0), (0,0,1)\n",
      "          dielectric constant epsilon diagonal = (2.1316,2.1316,2.1316)\n",
      "     block, center = (1.4353,0,0)\n",
      "          size (0.205479,1e+20,0)\n",
      "          axes (1,0,0), (0,1,0), (0,0,1)\n",
      "          dielectric constant epsilon diagonal = (2.1316,2.1316,2.1316)\n",
      "     ...(+ 10 objects not shown)...\n",
      "time for set_epsilon = 0.531757 s\n",
      "-----------\n",
      "Meep: using complex fields.\n"
     ]
    },
    {
     "data": {
      "text/plain": [
       "<AxesSubplot:xlabel='X', ylabel='Y'>"
      ]
     },
     "execution_count": 15,
     "metadata": {},
     "output_type": "execute_result"
    },
    {
     "data": {
      "image/png": "[encoded data removed]",
      "text/plain": [
       "<Figure size 432x288 with 1 Axes>"
      ]
     },
     "metadata": {
      "needs_background": "light"
     },
     "output_type": "display_data"
    }
   ],
   "source": [
    "# Set up second simulation, with quarter-wave stack\n",
    "\n",
    "sim.reset_meep()\n",
    "\n",
    "geometry = [mp.Block(mp.Vector3(d1, mp.inf),\n",
    "                     center=mp.Vector3(d1/2 + i*a, 0),\n",
    "                     material=material1) for i in range(-n_layers//2, n_layers//2)] + \\\n",
    "            [mp.Block(mp.Vector3(d2, mp.inf),\n",
    "                     center=mp.Vector3(d1 + d2/2 + i*a, 0),\n",
    "                     material=material2) for i in range(-n_layers//2, n_layers//2)]\n",
    "\n",
    "sim = mp.Simulation(cell_size=cell,\n",
    "                    boundary_layers=pml_layers,\n",
    "                    geometry=geometry,\n",
    "                    sources=sources,\n",
    "                    resolution=resolution,\n",
    "                    k_point=k)\n",
    "\n",
    "# Make new fluxes\n",
    "refl = sim.add_flux(fcen, df, nfreq, refl_fr)\n",
    "tran = sim.add_flux(fcen, df, nfreq, tran_fr)\n",
    "\n",
    "# Load negated fields from normalization run\n",
    "sim.load_minus_flux_data(refl, norm_refl_data)\n",
    "\n",
    "# plot\n",
    "sim.plot2D()"
   ]
  },
  {
   "cell_type": "code",
   "execution_count": 16,
   "metadata": {},
   "outputs": [
    {
     "name": "stdout",
     "output_type": "stream",
     "text": [
      "on time step 1905 (time=23.8125), 0.00209982 s/step\n",
      "on time step 3795 (time=47.4375), 0.00211724 s/step\n",
      "field decay(t = 50.0125): 0.027508371286845138 / 0.027508371286845138 = 1.0\n",
      "on time step 5706 (time=71.325), 0.00209412 s/step\n",
      "on time step 7614 (time=95.175), 0.00209719 s/step\n",
      "field decay(t = 100.025): 0.2436239079920468 / 0.2436239079920468 = 1.0\n",
      "on time step 9510 (time=118.875), 0.00211052 s/step\n",
      "on time step 11426 (time=142.825), 0.00208785 s/step\n",
      "field decay(t = 150.0375): 8.006017907890862e-05 / 0.2436239079920468 = 0.00032862201308059725\n",
      "on time step 13322 (time=166.525), 0.00211041 s/step\n",
      "on time step 15239 (time=190.488), 0.00208702 s/step\n",
      "field decay(t = 200.05): 6.437617215787e-11 / 0.2436239079920468 = 2.642440665551247e-10\n",
      "run 0 finished at t = 200.05 (16004 timesteps)\n"
     ]
    }
   ],
   "source": [
    "# Second run\n",
    "\n",
    "pt = mp.Vector3(0.5*sx-dpml-pad/4, 0)\n",
    "sim.run(until_after_sources=mp.stop_when_fields_decayed(50,mp.Ez, pt, 1e-6))\n",
    "qw_refl_flux = mp.get_fluxes(refl)\n",
    "qw_tran_flux = mp.get_fluxes(tran)\n",
    "\n",
    "flux_freqs = mp.get_flux_freqs(refl)"
   ]
  },
  {
   "cell_type": "code",
   "execution_count": null,
   "metadata": {},
   "outputs": [],
   "source": [
    "flux_freqs"
   ]
  },
  {
   "cell_type": "code",
   "execution_count": 17,
   "metadata": {},
   "outputs": [
    {
     "data": {
      "image/png": "[encoded data removed]",
      "text/plain": [
       "<Figure size 432x288 with 1 Axes>"
      ]
     },
     "metadata": {
      "needs_background": "light"
     },
     "output_type": "display_data"
    }
   ],
   "source": [
    "wl = []\n",
    "Rs = []\n",
    "Ts = []\n",
    "for i in range(nfreq):\n",
    "    wl = np.append(wl, 1/flux_freqs[i])\n",
    "    Rs = np.append(Rs,-qw_refl_flux[i]/norm_tran_flux[i])\n",
    "    Ts = np.append(Ts,qw_tran_flux[i]/norm_tran_flux[i])    \n",
    "plt.figure()\n",
    "plt.plot(wl,Rs,'b',label='reflectance')\n",
    "plt.plot(wl,Ts,'r',label='transmittance')\n",
    "plt.plot(wl,1-Rs-Ts,'g',label='loss')\n",
    "plt.title('Oblique Angle Transmittance and Reflecatance of Quarter-Wave Stack')\n",
    "plt.xlabel(\"wavelength (μm)\")\n",
    "plt.legend(loc=\"upper right\")\n",
    "plt.show()"
   ]
  },
  {
   "cell_type": "code",
   "execution_count": 18,
   "metadata": {},
   "outputs": [
    {
     "name": "stderr",
     "output_type": "stream",
     "text": [
      "Warning: grid volume is not an integer number of pixels; cell size will be rounded to nearest pixel.\n"
     ]
    },
    {
     "name": "stdout",
     "output_type": "stream",
     "text": [
      "-----------\n",
      "Initializing structure...\n",
      "time for choose_chunkdivision = 9.29832e-05 s\n",
      "Working in 2D dimensions.\n",
      "Computational cell is 15.325 x 9 x 0 with resolution 40\n",
      "     block, center = (-1.56296,0,0)\n",
      "          size (0.205479,1e+20,0)\n",
      "          axes (1,0,0), (0,1,0), (0,0,1)\n",
      "          dielectric constant epsilon diagonal = (2.1316,2.1316,2.1316)\n",
      "     block, center = (-1.22982,0,0)\n",
      "          size (0.205479,1e+20,0)\n",
      "          axes (1,0,0), (0,1,0), (0,0,1)\n",
      "          dielectric constant epsilon diagonal = (2.1316,2.1316,2.1316)\n",
      "     block, center = (-0.896677,0,0)\n",
      "          size (0.205479,1e+20,0)\n",
      "          axes (1,0,0), (0,1,0), (0,0,1)\n",
      "          dielectric constant epsilon diagonal = (2.1316,2.1316,2.1316)\n",
      "     block, center = (-0.563538,0,0)\n",
      "          size (0.205479,1e+20,0)\n",
      "          axes (1,0,0), (0,1,0), (0,0,1)\n",
      "          dielectric constant epsilon diagonal = (2.1316,2.1316,2.1316)\n",
      "     block, center = (-0.230399,0,0)\n",
      "          size (0.205479,1e+20,0)\n",
      "          axes (1,0,0), (0,1,0), (0,0,1)\n",
      "          dielectric constant epsilon diagonal = (2.1316,2.1316,2.1316)\n",
      "     block, center = (0.10274,0,0)\n",
      "          size (0.205479,1e+20,0)\n",
      "          axes (1,0,0), (0,1,0), (0,0,1)\n",
      "          dielectric constant epsilon diagonal = (2.1316,2.1316,2.1316)\n",
      "     block, center = (0.435879,0,0)\n",
      "          size (0.205479,1e+20,0)\n",
      "          axes (1,0,0), (0,1,0), (0,0,1)\n",
      "          dielectric constant epsilon diagonal = (2.1316,2.1316,2.1316)\n",
      "     block, center = (0.769018,0,0)\n",
      "          size (0.205479,1e+20,0)\n",
      "          axes (1,0,0), (0,1,0), (0,0,1)\n",
      "          dielectric constant epsilon diagonal = (2.1316,2.1316,2.1316)\n",
      "     block, center = (1.10216,0,0)\n",
      "          size (0.205479,1e+20,0)\n",
      "          axes (1,0,0), (0,1,0), (0,0,1)\n",
      "          dielectric constant epsilon diagonal = (2.1316,2.1316,2.1316)\n",
      "     block, center = (1.4353,0,0)\n",
      "          size (0.205479,1e+20,0)\n",
      "          axes (1,0,0), (0,1,0), (0,0,1)\n",
      "          dielectric constant epsilon diagonal = (2.1316,2.1316,2.1316)\n",
      "     ...(+ 10 objects not shown)...\n",
      "time for set_epsilon = 0.511011 s\n",
      "-----------\n",
      "Meep: using complex fields.\n",
      "on time step 1692 (time=21.15), 0.00236436 s/step\n",
      "on time step 3600 (time=45), 0.00210135 s/step\n",
      "field decay(t = 50.0125): 0.027508371286845138 / 0.027508371286845138 = 1.0\n",
      "on time step 5523 (time=69.0375), 0.00208104 s/step\n",
      "on time step 7440 (time=93), 0.0020898 s/step\n",
      "field decay(t = 100.025): 0.2436239079920468 / 0.2436239079920468 = 1.0\n",
      "on time step 9373 (time=117.163), 0.00206957 s/step\n",
      "on time step 11290 (time=141.125), 0.00208703 s/step\n",
      "field decay(t = 150.0375): 8.006017907890862e-05 / 0.2436239079920468 = 0.00032862201308059725\n",
      "on time step 13211 (time=165.138), 0.00208245 s/step\n",
      "on time step 15128 (time=189.1), 0.00208753 s/step\n",
      "field decay(t = 200.05): 6.437617215787e-11 / 0.2436239079920468 = 2.642440665551247e-10\n",
      "Normalizing field data...\n",
      "run 1 finished at t = 200.05 (16004 timesteps)\n"
     ]
    },
    {
     "data": {
      "image/png": "[encoded data removed]",
      "text/plain": [
       "<Figure size 432x288 with 1 Axes>"
      ]
     },
     "metadata": {
      "needs_background": "light"
     },
     "output_type": "display_data"
    }
   ],
   "source": [
    "# Make Animation\n",
    "\n",
    "animate = mp.Animate2D(sim, fields=mp.Ez, normalize=True)\n",
    "sim.reset_meep()\n",
    "sim.run(mp.at_every(1,animate),until_after_sources=mp.stop_when_fields_decayed(50,mp.Ez, pt, 1e-6))"
   ]
  },
  {
   "cell_type": "code",
   "execution_count": 19,
   "metadata": {},
   "outputs": [
    {
     "name": "stdout",
     "output_type": "stream",
     "text": [
      "Generating MP4...\n"
     ]
    },
    {
     "data": {
      "text/html": [
       "<video src=\"qw_angle.mp4\" controls  >\n",
       "      Your browser does not support the <code>video</code> element.\n",
       "    </video>"
      ],
      "text/plain": [
       "<IPython.core.display.Video object>"
      ]
     },
     "execution_count": 19,
     "metadata": {},
     "output_type": "execute_result"
    }
   ],
   "source": [
    "# Play Animation\n",
    "\n",
    "filename = \"qw_angle.mp4\"\n",
    "fps = 10\n",
    "animate.to_mp4(fps,filename)\n",
    "Video(filename)"
   ]
  },
  {
   "cell_type": "code",
   "execution_count": null,
   "metadata": {},
   "outputs": [],
   "source": []
  }
 ],
 "metadata": {
  "kernelspec": {
   "display_name": "Python [conda env:.conda-pmp]",
   "language": "python",
   "name": "conda-env-.conda-pmp-py"
  },
  "language_info": {
   "codemirror_mode": {
    "name": "ipython",
    "version": 3
   },
   "file_extension": ".py",
   "mimetype": "text/x-python",
   "name": "python",
   "nbconvert_exporter": "python",
   "pygments_lexer": "ipython3",
   "version": "3.8.10"
  },
  "latex_envs": {
   "LaTeX_envs_menu_present": true,
   "autoclose": false,
   "autocomplete": true,
   "bibliofile": "biblio.bib",
   "cite_by": "apalike",
   "current_citInitial": 1,
   "eqLabelWithNumbers": true,
   "eqNumInitial": 1,
   "hotkeys": {
    "equation": "Ctrl-E",
    "itemize": "Ctrl-I"
   },
   "labels_anchors": false,
   "latex_user_defs": false,
   "report_style_numbering": false,
   "user_envs_cfg": false
  },
  "toc": {
   "base_numbering": 1,
   "nav_menu": {},
   "number_sections": true,
   "sideBar": true,
   "skip_h1_title": false,
   "title_cell": "Table of Contents",
   "title_sidebar": "Contents",
   "toc_cell": false,
   "toc_position": {},
   "toc_section_display": true,
   "toc_window_display": false
  },
  "varInspector": {
   "cols": {
    "lenName": 16,
    "lenType": 16,
    "lenVar": 40
   },
   "kernels_config": {
    "python": {
     "delete_cmd_postfix": "",
     "delete_cmd_prefix": "del ",
     "library": "var_list.py",
     "varRefreshCmd": "print(var_dic_list())"
    },
    "r": {
     "delete_cmd_postfix": ") ",
     "delete_cmd_prefix": "rm(",
     "library": "var_list.r",
     "varRefreshCmd": "cat(var_dic_list()) "
    }
   },
   "types_to_exclude": [
    "module",
    "function",
    "builtin_function_or_method",
    "instance",
    "_Feature"
   ],
   "window_display": false
  }
 },
 "nbformat": 4,
 "nbformat_minor": 4
}
