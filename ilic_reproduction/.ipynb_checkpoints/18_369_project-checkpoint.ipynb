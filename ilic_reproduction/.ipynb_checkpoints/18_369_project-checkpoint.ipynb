{
 "cells": [
  {
   "cell_type": "code",
   "execution_count": 37,
   "metadata": {},
   "outputs": [],
   "source": [
    "import meep as mp\n",
    "import math\n",
    "import cmath\n",
    "import argparse\n",
    "import numpy as np"
   ]
  },
  {
   "cell_type": "markdown",
   "metadata": {},
   "source": [
    "## Define materials"
   ]
  },
  {
   "cell_type": "code",
   "execution_count": 40,
   "metadata": {},
   "outputs": [],
   "source": [
    "from meep.materials import SiO2\n",
    "from meep.materials import W\n",
    "\n",
    "# TiO2 at 1 micron wavelength, see https://refractiveindex.info/?shelf=main&book=TiO2&page=Devore-o\n",
    "TiO2 = mp.Medium(epsilon=6.18)"
   ]
  },
  {
   "cell_type": "code",
   "execution_count": 36,
   "metadata": {},
   "outputs": [
    {
     "data": {
      "text/plain": [
       "array([[6.18, 0.  , 0.  ],\n",
       "       [0.  , 6.18, 0.  ],\n",
       "       [0.  , 0.  , 6.18]])"
      ]
     },
     "execution_count": 36,
     "metadata": {},
     "output_type": "execute_result"
    }
   ],
   "source": [
    "TiO2.epsilon(1.0)"
   ]
  },
  {
   "cell_type": "code",
   "execution_count": 30,
   "metadata": {},
   "outputs": [
    {
     "data": {
      "text/plain": [
       "array([[2.13208421+0.00098524j, 0.        +0.j        ,\n",
       "        0.        +0.j        ],\n",
       "       [0.        +0.j        , 2.13208421+0.00098524j,\n",
       "        0.        +0.j        ],\n",
       "       [0.        +0.j        , 0.        +0.j        ,\n",
       "        2.13208421+0.00098524j]])"
      ]
     },
     "execution_count": 30,
     "metadata": {},
     "output_type": "execute_result"
    }
   ],
   "source": [
    "SiO2.epsilon(1.0)"
   ]
  },
  {
   "cell_type": "markdown",
   "metadata": {},
   "source": [
    "## Set up meep structure for quarter-wave stack"
   ]
  },
  {
   "cell_type": "code",
   "execution_count": 41,
   "metadata": {},
   "outputs": [],
   "source": [
    "n_layers = 25\n",
    "\n",
    "fcen = 1.0\n",
    "center_material = W\n",
    "\n",
    "material1 = SiO2\n",
    "material2 = TiO2\n",
    "eps1 = np.real(material1.epsilon(fcen)[0,0])\n",
    "eps2 = np.real(material2.epsilon(fcen)[0,0])\n",
    "n1 = np.sqrt(eps1)\n",
    "n2 = np.sqrt(eps2)\n",
    "a = (n1+n2)/(4*n1*n2*fcen)\n",
    "d1 = a*n2/(n1+n2)\n",
    "d2 = a*n1/(n1+n2)\n",
    "\n",
    "s_cavity = n_layers * a #estimate the size of the cavity\n",
    "dpml = 1.\n",
    "sx = 2*n_layers*a + s_cavity + 2*dpml\n",
    "\n",
    "cell = mp.Vector3(sx,0,0)\n",
    "um_scale = 1.0\n"
   ]
  },
  {
   "cell_type": "code",
   "execution_count": 42,
   "metadata": {},
   "outputs": [
    {
     "data": {
      "text/plain": [
       "0.2717781797572795"
      ]
     },
     "execution_count": 42,
     "metadata": {},
     "output_type": "execute_result"
    }
   ],
   "source": [
    "a"
   ]
  },
  {
   "cell_type": "code",
   "execution_count": null,
   "metadata": {},
   "outputs": [],
   "source": [
    "def main(args):\n",
    "\n",
    "    # default unit length is 1 um\n",
    "    um_scale = 1.0\n",
    "\n",
    "    # conversion factor for eV to 1/um [=1/hc]\n",
    "    eV_um_scale = um_scale/1.23984193\n",
    "\n",
    "    # Pt from A.D. Rakic et al., Applied Optics, Vol. 37, No. 22, pp. 5271-83, 1998\n",
    "    Pt_plasma_frq = 9.59*eV_um_scale\n",
    "    Pt_f0 = 0.333\n",
    "    Pt_frq0 = 1e-10\n",
    "    Pt_gam0 = 0.080*eV_um_scale\n",
    "    Pt_sig0 = Pt_f0*Pt_plasma_frq**2/Pt_frq0**2\n",
    "    Pt_f1 = 0.191\n",
    "    Pt_frq1 = 0.780*eV_um_scale      # 1.590 um\n",
    "    Pt_gam1 = 0.517*eV_um_scale\n",
    "    Pt_sig1 = Pt_f1*Pt_plasma_frq**2/Pt_frq1**2\n",
    "    Pt_f2 = 0.659\n",
    "    Pt_frq2 = 1.314*eV_um_scale      # 0.944 um\n",
    "    Pt_gam2 = 1.838*eV_um_scale\n",
    "    Pt_sig2 = Pt_f2*Pt_plasma_frq**2/Pt_frq2**2\n",
    "\n",
    "    Pt_susc = [ mp.DrudeSusceptibility(frequency=Pt_frq0, gamma=Pt_gam0, sigma=Pt_sig0),\n",
    "                mp.LorentzianSusceptibility(frequency=Pt_frq1, gamma=Pt_gam1, sigma=Pt_sig1),\n",
    "                mp.LorentzianSusceptibility(frequency=Pt_frq2, gamma=Pt_gam2, sigma=Pt_sig2) ]\n",
    "\n",
    "    Pt = mp.Medium(epsilon=1.0, E_susceptibilities=Pt_susc)    \n",
    "    \n",
    "    resolution = 40     # pixels/um\n",
    "\n",
    "    a = args.aa         # lattice periodicity\n",
    "    r = args.rr         # metal rod radius\n",
    "    h = 0.2             # metal rod height\n",
    "    tmet = 0.3          # metal layer thickness\n",
    "    tsub = 2.0          # substrate thickness\n",
    "    tabs = 5.0          # PML thickness\n",
    "    tair = 4.0          # air thickness\n",
    "\n",
    "    sz = tabs+tair+h+tmet+tsub+tabs\n",
    "    cell_size = mp.Vector3(a,a,sz)\n",
    "\n",
    "    pml_layers = [mp.PML(thickness=tabs,direction=mp.Z,side=mp.High),\n",
    "                  mp.Absorber(thickness=tabs,direction=mp.Z,side=mp.Low)]\n",
    "\n",
    "    lmin = 2.0          # source min wavelength\n",
    "    lmax = 5.0          # source max wavelength\n",
    "    fmin = 1/lmax       # source min frequency\n",
    "    fmax = 1/lmin       # source max frequency\n",
    "    fcen = 0.5*(fmin+fmax)\n",
    "    df = fmax-fmin\n",
    "\n",
    "    nSi = 3.5\n",
    "    Si = mp.Medium(index=nSi)\n",
    "\n",
    "    if args.empty:\n",
    "        geometry = []\n",
    "    else:\n",
    "        geometry = [ mp.Cylinder(material=Pt, radius=r, height=h, center=mp.Vector3(0,0,0.5*sz-tabs-tair-0.5*h)),\n",
    "                     mp.Block(material=Pt, size=mp.Vector3(mp.inf,mp.inf,tmet),\n",
    "                              center=mp.Vector3(0,0,0.5*sz-tabs-tair-h-0.5*tmet)),\n",
    "                     mp.Block(material=Si, size=mp.Vector3(mp.inf,mp.inf,tsub+tabs),\n",
    "                              center=mp.Vector3(0,0,0.5*sz-tabs-tair-h-tmet-0.5*(tsub+tabs))) ]\n",
    "\n",
    "    # CCW rotation angle (degrees) about Y-axis of PW current source; 0 degrees along -z axis\n",
    "    theta = math.radians(args.theta)\n",
    "\n",
    "    # k with correct length (plane of incidence: XZ) \n",
    "    k = mp.Vector3(math.sin(theta),0,math.cos(theta)).scale(fcen)\n",
    "\n",
    "    def pw_amp(k, x0):\n",
    "        def _pw_amp(x):\n",
    "            return cmath.exp(1j * 2 * math.pi * k.dot(x + x0))\n",
    "        return _pw_amp\n",
    "\n",
    "    src_pos = 0.5*sz-tabs-0.2*tair\n",
    "    sources = [ mp.Source(mp.GaussianSource(fcen, fwidth=df), component=mp.Ey, center=mp.Vector3(0,0,src_pos),\n",
    "                          size=mp.Vector3(a,a,0),\n",
    "                          amp_func=pw_amp(k, mp.Vector3(0,0,src_pos))) ]\n",
    "\n",
    "    sim = mp.Simulation(cell_size=cell_size,\n",
    "                        geometry=geometry,\n",
    "                        sources=sources,\n",
    "                        boundary_layers=pml_layers,\n",
    "                        k_point = k,\n",
    "                        resolution=resolution)\n",
    "\n",
    "    nfreq = 50\n",
    "    refl = sim.add_flux(fcen, df, nfreq, mp.FluxRegion(center=mp.Vector3(0,0,+0.5*sz-tabs-0.5*tair),size=mp.Vector3(a,a,0)))\n",
    "\n",
    "    if not args.empty:\n",
    "        sim.load_minus_flux('refl-flux', refl)\n",
    "    \n",
    "    sim.run(until_after_sources=mp.stop_when_fields_decayed(25, mp.Ey, mp.Vector3(0,0,0.5*sz-tabs-0.5*tair), 1e-7))\n",
    "\n",
    "    if args.empty:\n",
    "        sim.save_flux('refl-flux', refl)\n",
    "    \n",
    "    sim.display_fluxes(refl)"
   ]
  }
 ],
 "metadata": {
  "kernelspec": {
   "display_name": "Python [conda env:.conda-pmp]",
   "language": "python",
   "name": "conda-env-.conda-pmp-py"
  },
  "language_info": {
   "codemirror_mode": {
    "name": "ipython",
    "version": 3
   },
   "file_extension": ".py",
   "mimetype": "text/x-python",
   "name": "python",
   "nbconvert_exporter": "python",
   "pygments_lexer": "ipython3",
   "version": "3.8.10"
  },
  "latex_envs": {
   "LaTeX_envs_menu_present": true,
   "autoclose": false,
   "autocomplete": true,
   "bibliofile": "biblio.bib",
   "cite_by": "apalike",
   "current_citInitial": 1,
   "eqLabelWithNumbers": true,
   "eqNumInitial": 1,
   "hotkeys": {
    "equation": "Ctrl-E",
    "itemize": "Ctrl-I"
   },
   "labels_anchors": false,
   "latex_user_defs": false,
   "report_style_numbering": false,
   "user_envs_cfg": false
  },
  "toc": {
   "base_numbering": 1,
   "nav_menu": {},
   "number_sections": true,
   "sideBar": true,
   "skip_h1_title": false,
   "title_cell": "Table of Contents",
   "title_sidebar": "Contents",
   "toc_cell": false,
   "toc_position": {},
   "toc_section_display": true,
   "toc_window_display": false
  },
  "varInspector": {
   "cols": {
    "lenName": 16,
    "lenType": 16,
    "lenVar": 40
   },
   "kernels_config": {
    "python": {
     "delete_cmd_postfix": "",
     "delete_cmd_prefix": "del ",
     "library": "var_list.py",
     "varRefreshCmd": "print(var_dic_list())"
    },
    "r": {
     "delete_cmd_postfix": ") ",
     "delete_cmd_prefix": "rm(",
     "library": "var_list.r",
     "varRefreshCmd": "cat(var_dic_list()) "
    }
   },
   "types_to_exclude": [
    "module",
    "function",
    "builtin_function_or_method",
    "instance",
    "_Feature"
   ],
   "window_display": false
  }
 },
 "nbformat": 4,
 "nbformat_minor": 4
}
